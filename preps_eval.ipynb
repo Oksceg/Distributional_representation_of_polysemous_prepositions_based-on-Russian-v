{
  "nbformat": 4,
  "nbformat_minor": 0,
  "metadata": {
    "colab": {
      "provenance": []
    },
    "kernelspec": {
      "name": "python3",
      "display_name": "Python 3"
    },
    "language_info": {
      "name": "python"
    }
  },
  "cells": [
    {
      "cell_type": "code",
      "source": [
        "!pip install pymorphy2"
      ],
      "metadata": {
        "colab": {
          "base_uri": "https://localhost:8080/"
        },
        "id": "IqQqQOcyPwNk",
        "outputId": "c0d5e53d-ce57-411a-dcd6-f21d406bcf24"
      },
      "execution_count": null,
      "outputs": [
        {
          "output_type": "stream",
          "name": "stdout",
          "text": [
            "Looking in indexes: https://pypi.org/simple, https://us-python.pkg.dev/colab-wheels/public/simple/\n",
            "Collecting pymorphy2\n",
            "  Downloading pymorphy2-0.9.1-py3-none-any.whl (55 kB)\n",
            "\u001b[2K     \u001b[90m━━━━━━━━━━━━━━━━━━━━━━━━━━━━━━━━━━━━━━━━\u001b[0m \u001b[32m55.5/55.5 kB\u001b[0m \u001b[31m2.4 MB/s\u001b[0m eta \u001b[36m0:00:00\u001b[0m\n",
            "\u001b[?25hCollecting dawg-python>=0.7.1 (from pymorphy2)\n",
            "  Downloading DAWG_Python-0.7.2-py2.py3-none-any.whl (11 kB)\n",
            "Collecting pymorphy2-dicts-ru<3.0,>=2.4 (from pymorphy2)\n",
            "  Downloading pymorphy2_dicts_ru-2.4.417127.4579844-py2.py3-none-any.whl (8.2 MB)\n",
            "\u001b[2K     \u001b[90m━━━━━━━━━━━━━━━━━━━━━━━━━━━━━━━━━━━━━━━━\u001b[0m \u001b[32m8.2/8.2 MB\u001b[0m \u001b[31m59.1 MB/s\u001b[0m eta \u001b[36m0:00:00\u001b[0m\n",
            "\u001b[?25hCollecting docopt>=0.6 (from pymorphy2)\n",
            "  Downloading docopt-0.6.2.tar.gz (25 kB)\n",
            "  Preparing metadata (setup.py) ... \u001b[?25l\u001b[?25hdone\n",
            "Building wheels for collected packages: docopt\n",
            "  Building wheel for docopt (setup.py) ... \u001b[?25l\u001b[?25hdone\n",
            "  Created wheel for docopt: filename=docopt-0.6.2-py2.py3-none-any.whl size=13707 sha256=47730f5d06103d0216334edbb3bd2a4dd2919b8ca9b326045b9dc86bb22ed18d\n",
            "  Stored in directory: /root/.cache/pip/wheels/fc/ab/d4/5da2067ac95b36618c629a5f93f809425700506f72c9732fac\n",
            "Successfully built docopt\n",
            "Installing collected packages: pymorphy2-dicts-ru, docopt, dawg-python, pymorphy2\n",
            "Successfully installed dawg-python-0.7.2 docopt-0.6.2 pymorphy2-0.9.1 pymorphy2-dicts-ru-2.4.417127.4579844\n"
          ]
        }
      ]
    },
    {
      "cell_type": "code",
      "execution_count": null,
      "metadata": {
        "id": "b4v2UEeEFp7N"
      },
      "outputs": [],
      "source": [
        "import numpy as np\n",
        "import pandas as pd\n",
        "from pymorphy2 import MorphAnalyzer"
      ]
    },
    {
      "cell_type": "code",
      "source": [
        "w2v_res = pd.read_excel(\"/content/drive/MyDrive/dataset_probe.xlsx\", sheet_name = \"w2v результаты\")"
      ],
      "metadata": {
        "id": "yajuuuyyI9r2"
      },
      "execution_count": null,
      "outputs": []
    },
    {
      "cell_type": "code",
      "source": [
        "glove_res = pd.read_excel(\"/content/drive/MyDrive/dataset_probe.xlsx\", sheet_name = \"GloVe результаты\")"
      ],
      "metadata": {
        "id": "ohjYCD6pIks3"
      },
      "execution_count": null,
      "outputs": []
    },
    {
      "cell_type": "code",
      "source": [
        "w2v_geowac = pd.read_excel(\"/content/drive/MyDrive/dataset_probe.xlsx\", sheet_name = \"w2v совмещение\")"
      ],
      "metadata": {
        "id": "erprgaALMAbp"
      },
      "execution_count": null,
      "outputs": []
    },
    {
      "cell_type": "code",
      "source": [
        "elmo_res = pd.read_excel(\"/content/drive/MyDrive/dataset_probe.xlsx\", sheet_name = \"ELMO результаты\")"
      ],
      "metadata": {
        "id": "ms6dL7msQPIV"
      },
      "execution_count": null,
      "outputs": []
    },
    {
      "cell_type": "code",
      "source": [
        "w2v_res[\"номер значения\"] = [0]*25 + [1]*25 + [2]*25 + [3]*25\n",
        "glove_res[\"номер значения\"] = [0]*25 + [1]*25 + [2]*25 + [3]*25\n",
        "w2v_geowac[\"номер значения\"] = [0]*25 + [1]*25 + [2]*25 + [3]*25\n",
        "elmo_res[\"номер значения\"] = [0]*25 + [1]*25 + [2]*25 + [3]*25"
      ],
      "metadata": {
        "id": "k4GzcHoE9P9A"
      },
      "execution_count": null,
      "outputs": []
    },
    {
      "cell_type": "code",
      "source": [
        "from sklearn.metrics.cluster import adjusted_rand_score\n",
        "gtl_ARI = round(adjusted_rand_score(w2v_res[\"номер значения\"], w2v_res[\"Geowac_token_model — lemmas\"]), 3)\n",
        "gtt_ARI = round(adjusted_rand_score(w2v_res[\"номер значения\"], w2v_res[\"Geowac_token_model — tokens\"]), 3)\n",
        "gl_ARI = round(adjusted_rand_score(w2v_res[\"номер значения\"], w2v_res[\"Geowac_lemma_model\"]), 3)\n",
        "w_ARI = round(adjusted_rand_score(w2v_res[\"номер значения\"], w2v_res[\"WikiNCorpora_model\"]), 3)\n",
        "t_ARI = round(adjusted_rand_score(w2v_res[\"номер значения\"], w2v_res[\"Taiga_model\"]), 3)"
      ],
      "metadata": {
        "id": "_K-Kl96B1wg7"
      },
      "execution_count": null,
      "outputs": []
    },
    {
      "cell_type": "code",
      "source": [
        "print(f\"Результаты по моделям Word2Vec: \\nGeowac_token_model — lemmas: {gtl_ARI} \\nGeowac_token_model — tokens: {gtt_ARI} \\nGeowac_lemma_model: {gl_ARI} \\nWikiNCorpora_model: {w_ARI} \\nTaiga_model: {t_ARI}\")"
      ],
      "metadata": {
        "colab": {
          "base_uri": "https://localhost:8080/"
        },
        "id": "aKh94OtFFpTv",
        "outputId": "98524dd8-3be1-4298-e865-6eb9ecc7dd2d"
      },
      "execution_count": null,
      "outputs": [
        {
          "output_type": "stream",
          "name": "stdout",
          "text": [
            "Результаты по моделям Word2Vec: \n",
            "Geowac_token_model — lemmas: 0.466 \n",
            "Geowac_token_model — tokens: 0.685 \n",
            "Geowac_lemma_model: 0.547 \n",
            "WikiNCorpora_model: 0.571 \n",
            "Taiga_model: 0.569\n"
          ]
        }
      ]
    },
    {
      "cell_type": "code",
      "source": [
        "hl_ARI = round(adjusted_rand_score(glove_res[\"номер значения\"], glove_res[\"clusters_hudlit_lemmas\"]), 3)\n",
        "nl_ARI = round(adjusted_rand_score(glove_res[\"номер значения\"], glove_res[\"clusters_news_lemmas\"]), 3)\n",
        "ht_ARI = round(adjusted_rand_score(glove_res[\"номер значения\"], glove_res[\"clusters_hudlit_tokens\"]), 3)\n",
        "nt_ARI = round(adjusted_rand_score(glove_res[\"номер значения\"], glove_res[\"clusters_news_tokens\"]), 3)"
      ],
      "metadata": {
        "id": "9OVjA4rtI4ID"
      },
      "execution_count": null,
      "outputs": []
    },
    {
      "cell_type": "code",
      "source": [
        "print(f\"Результаты по моделям GloVe: \\nclusters_hudlit_lemmas: {hl_ARI} \\nclusters_news_lemmas: {nl_ARI} \\nclusters_hudlit_tokens {ht_ARI} \\nclusters_news_tokens {nt_ARI}\")"
      ],
      "metadata": {
        "colab": {
          "base_uri": "https://localhost:8080/"
        },
        "id": "4YpV5d3WJoKk",
        "outputId": "3b4fd130-201f-40df-a354-4c559ab4f785"
      },
      "execution_count": null,
      "outputs": [
        {
          "output_type": "stream",
          "name": "stdout",
          "text": [
            "Результаты по моделям GloVe: \n",
            "clusters_hudlit_lemmas: 0.564 \n",
            "clusters_news_lemmas: 0.38 \n",
            "clusters_hudlit_tokens 0.496 \n",
            "clusters_news_tokens 0.194\n"
          ]
        }
      ]
    },
    {
      "cell_type": "code",
      "source": [
        "nums = []\n",
        "for cl in w2v_geowac[\"new_clusters\"]:\n",
        "    if cl == \"a\":\n",
        "        nums.append(0)\n",
        "    if cl == \"b\":\n",
        "        nums.append(1)\n",
        "    if cl == \"c\":\n",
        "        nums.append(2)\n",
        "    if cl == \"d\":\n",
        "        nums.append(3)"
      ],
      "metadata": {
        "id": "4pAKg06sMU1s"
      },
      "execution_count": null,
      "outputs": []
    },
    {
      "cell_type": "code",
      "source": [
        "w2v_geowac[\"new_clusters_nums\"] = nums"
      ],
      "metadata": {
        "id": "YisRuSS6PXE3"
      },
      "execution_count": null,
      "outputs": []
    },
    {
      "cell_type": "code",
      "source": [
        "print(\"Результат по совмещению моделей Geowac: \", round(adjusted_rand_score(w2v_geowac[\"номер значения\"], w2v_geowac[\"new_clusters_nums\"]), 3))"
      ],
      "metadata": {
        "colab": {
          "base_uri": "https://localhost:8080/"
        },
        "id": "fOCXPOD-Pq9c",
        "outputId": "e74160b2-5691-423a-ae34-34dcf6b0e8e7"
      },
      "execution_count": null,
      "outputs": [
        {
          "output_type": "stream",
          "name": "stdout",
          "text": [
            "Результат по совмещению моделей Geowac:  0.867\n"
          ]
        }
      ]
    },
    {
      "cell_type": "code",
      "source": [
        "elmo_wt_ARI = round(adjusted_rand_score(elmo_res[\"номер значения\"], elmo_res[\"ruswikicorp_tokens\"]), 3)\n",
        "elmo_wl_ARI = round(adjusted_rand_score(elmo_res[\"номер значения\"], elmo_res[\"ruswikicorp_lemmas\"]), 3)\n",
        "elmo_t_ARI = round(adjusted_rand_score(elmo_res[\"номер значения\"], elmo_res[\"taiga_lemmas\"]), 3)\n",
        "elmo_ar_ARI = round(adjusted_rand_score(elmo_res[\"номер значения\"], elmo_res[\"araneum_lemmas\"]), 3)"
      ],
      "metadata": {
        "id": "I8Mptf2rQJWK"
      },
      "execution_count": null,
      "outputs": []
    },
    {
      "cell_type": "code",
      "source": [
        "print(f\"Результаты по моделям ELMO: \\nruswikicorp_tokens: {elmo_wt_ARI} \\nruswikicorp_lemmas: {elmo_wl_ARI} \\ntaiga_lemmas {elmo_t_ARI} \\naraneum_lemmas {elmo_ar_ARI}\")"
      ],
      "metadata": {
        "colab": {
          "base_uri": "https://localhost:8080/"
        },
        "id": "4uHL3LdJRK_h",
        "outputId": "202df59f-6142-4fd8-f5f0-46d2780272e4"
      },
      "execution_count": null,
      "outputs": [
        {
          "output_type": "stream",
          "name": "stdout",
          "text": [
            "Результаты по моделям ELMO: \n",
            "ruswikicorp_tokens: 0.037 \n",
            "ruswikicorp_lemmas: -0.004 \n",
            "taiga_lemmas 0.0 \n",
            "araneum_lemmas 0.016\n"
          ]
        }
      ]
    }
  ]
}