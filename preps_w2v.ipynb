{
  "nbformat": 4,
  "nbformat_minor": 0,
  "metadata": {
    "colab": {
      "provenance": []
    },
    "kernelspec": {
      "name": "python3",
      "display_name": "Python 3"
    },
    "language_info": {
      "name": "python"
    }
  },
  "cells": [
    {
      "cell_type": "markdown",
      "source": [
        "Рассматриваемые модели:\n",
        "- geowac_lemmas_none_fasttextskipgram_300_5_2020 — обученная на Geowac модель с леммами и функциональными словами\n",
        "- geowac_tokens_none_fasttextskipgram_300_5_2020 — обученная на Geowac модель с токенами(!) и функциональными словами\n",
        "- ruwikiruscorpora-func_upos_skipgram_300_5_2019 — обученная на НКРЯ и википедии модель с леммами и функциональными словами\n",
        "- tayga-func_upos_skipgram_300_5_2019 — обученная на Тайге модель с леммами и функциональными словами"
      ],
      "metadata": {
        "id": "tvb6m2hbniOo"
      }
    },
    {
      "cell_type": "markdown",
      "source": [
        "## Подготовка данных\n",
        "- импорт библиотек и модулей\n",
        "- загрузка [датасета](https://docs.google.com/spreadsheets/d/1KYY9mnUkNmgRoCl15MWYu4b516KNXrF2/edit#gid=2122820980), добавление колонки с выражением предлог+сущ (в перспективе что-то с глаголом?)\n",
        "- функции, использующиеся в экспериментах"
      ],
      "metadata": {
        "id": "ILKV_0QKpmF0"
      }
    },
    {
      "cell_type": "code",
      "source": [
        "!pip install pymorphy2"
      ],
      "metadata": {
        "id": "r1wTe8lJprNo",
        "colab": {
          "base_uri": "https://localhost:8080/"
        },
        "outputId": "7bc14383-8895-4880-abb1-0c637290154e"
      },
      "execution_count": null,
      "outputs": [
        {
          "output_type": "stream",
          "name": "stdout",
          "text": [
            "Looking in indexes: https://pypi.org/simple, https://us-python.pkg.dev/colab-wheels/public/simple/\n",
            "Collecting pymorphy2\n",
            "  Downloading pymorphy2-0.9.1-py3-none-any.whl (55 kB)\n",
            "\u001b[2K     \u001b[90m━━━━━━━━━━━━━━━━━━━━━━━━━━━━━━━━━━━━━━━━\u001b[0m \u001b[32m55.5/55.5 kB\u001b[0m \u001b[31m4.1 MB/s\u001b[0m eta \u001b[36m0:00:00\u001b[0m\n",
            "\u001b[?25hCollecting dawg-python>=0.7.1 (from pymorphy2)\n",
            "  Downloading DAWG_Python-0.7.2-py2.py3-none-any.whl (11 kB)\n",
            "Collecting pymorphy2-dicts-ru<3.0,>=2.4 (from pymorphy2)\n",
            "  Downloading pymorphy2_dicts_ru-2.4.417127.4579844-py2.py3-none-any.whl (8.2 MB)\n",
            "\u001b[2K     \u001b[90m━━━━━━━━━━━━━━━━━━━━━━━━━━━━━━━━━━━━━━━━\u001b[0m \u001b[32m8.2/8.2 MB\u001b[0m \u001b[31m59.0 MB/s\u001b[0m eta \u001b[36m0:00:00\u001b[0m\n",
            "\u001b[?25hCollecting docopt>=0.6 (from pymorphy2)\n",
            "  Downloading docopt-0.6.2.tar.gz (25 kB)\n",
            "  Preparing metadata (setup.py) ... \u001b[?25l\u001b[?25hdone\n",
            "Building wheels for collected packages: docopt\n",
            "  Building wheel for docopt (setup.py) ... \u001b[?25l\u001b[?25hdone\n",
            "  Created wheel for docopt: filename=docopt-0.6.2-py2.py3-none-any.whl size=13707 sha256=a942b1f0538b0324826bd26c11d5fc8e2035f496601703fe13a7a0a53f1fcbda\n",
            "  Stored in directory: /root/.cache/pip/wheels/fc/ab/d4/5da2067ac95b36618c629a5f93f809425700506f72c9732fac\n",
            "Successfully built docopt\n",
            "Installing collected packages: pymorphy2-dicts-ru, docopt, dawg-python, pymorphy2\n",
            "Successfully installed dawg-python-0.7.2 docopt-0.6.2 pymorphy2-0.9.1 pymorphy2-dicts-ru-2.4.417127.4579844\n"
          ]
        }
      ]
    },
    {
      "cell_type": "code",
      "source": [
        "import gensim\n",
        "import matplotlib.pyplot as plt\n",
        "from matplotlib.pyplot import figure\n",
        "import numpy as np\n",
        "import os\n",
        "import pandas as pd\n",
        "from pymorphy2 import MorphAnalyzer\n",
        "import re\n",
        "import shutil\n",
        "from sklearn.cluster import KMeans\n",
        "import matplotlib.pyplot as plt\n",
        "from matplotlib.pyplot import figure\n",
        "morph = MorphAnalyzer()"
      ],
      "metadata": {
        "id": "wXqVKD7CqoVK"
      },
      "execution_count": null,
      "outputs": []
    },
    {
      "cell_type": "code",
      "source": [
        "df = pd.read_excel(r'/content/drive/MyDrive/dataset_probe.xlsx')\n",
        "v_cols = []\n",
        "for line in df[\"контексты\"]:\n",
        "    cl_line = re.sub(r'[^\\w\\s]','', line.lower())\n",
        "    words = cl_line.split()\n",
        "    if \"в\" in words:\n",
        "        v_cols.append(f\"в {words[words.index('в')+1]}\")\n",
        "df[\"в + сущ\"] = v_cols"
      ],
      "metadata": {
        "id": "Ju0yuV5eqs_L"
      },
      "execution_count": null,
      "outputs": []
    },
    {
      "cell_type": "code",
      "source": [
        "def data_for_clustering_tokens(some_df, model): #для получения векторов предлог + форма слова\n",
        "    senses_ = []\n",
        "    cols_ = []\n",
        "    vecs_ = []\n",
        "    vecs_lem = []\n",
        "    for sns, wordc in zip(some_df[\"значение\"], some_df[\"в + сущ\"]):\n",
        "        prep, noun = wordc.split()\n",
        "        pvec = model.word_vec(prep)\n",
        "        nvec = model.word_vec(noun)\n",
        "        nvec_lem = model.word_vec(morph.normal_forms(noun)[0])\n",
        "        wordc_vec = pvec + nvec\n",
        "        wordc_vec_lem = pvec + nvec_lem\n",
        "        senses_.append(sns)\n",
        "        cols_.append(wordc)\n",
        "        vecs_.append(wordc_vec)  \n",
        "        vecs_lem.append(wordc_vec_lem)\n",
        "    X_ = np.array(vecs_)\n",
        "    X_lem = np.array(vecs_lem)\n",
        "    new_df = pd.DataFrame({\"короткое обозначение\": senses_,\n",
        "                   \"выражение\": cols_,\n",
        "                   \"вектор пред+форма сущ\": vecs_})\n",
        "    return X_lem, X_, new_df\n",
        "\n",
        "def data_for_clustering_lems(some_df, model): #для получения векторов предлог + лемма\n",
        "    senses_ = []\n",
        "    cols_ = []\n",
        "    vecs_ = []\n",
        "    vecs_form = []\n",
        "    for sns, wordc in zip(some_df[\"значение\"], some_df[\"в + сущ\"]):\n",
        "        prep, noun = wordc.split()\n",
        "        if prep in model:\n",
        "            pvec = model.word_vec(prep)\n",
        "            # try:\n",
        "            nvec_lem = model.word_vec(morph.normal_forms(noun)[0])\n",
        "            # except:\n",
        "            #     pass\n",
        "        else:\n",
        "            pvec = model.word_vec(f\"{prep}_ADP\")\n",
        "            try:\n",
        "                nvec_lem = model.word_vec(f\"{morph.normal_forms(noun)[0]}_NOUN\")\n",
        "            except:\n",
        "                pass\n",
        "        wordc_vec_lem = pvec+nvec_lem\n",
        "        senses_.append(sns)\n",
        "        cols_.append(wordc)\n",
        "        vecs_.append(wordc_vec_lem)   \n",
        "    X_ = np.array(vecs_)\n",
        "    new_df = pd.DataFrame({\"значение\": senses_,\n",
        "                   \"выражение\": cols_,\n",
        "                   \"вектор пред+лемма сущ\": vecs_})\n",
        "    return X_, new_df\n",
        "\n",
        "def kmeans_clustering(n, matrix, slcted_columns):\n",
        "    kmeans = KMeans(n_clusters=n, init = \"random\", n_init = \"auto\", max_iter = 500, algorithm='elkan').fit(matrix)\n",
        "    df_res = slcted_columns.copy()\n",
        "    kclusters = kmeans.predict(matrix)\n",
        "    return df_res, kclusters\n",
        "\n",
        "def show_result(some_df, cat_name):\n",
        "    return some_df.loc[some_df['значение'] == cat_name]\n",
        "    \n",
        "def visual(some_X, some_df, cluster_cat, title):\n",
        "    xs = some_X[:,0]\n",
        "    ys = some_X[:,1]    \n",
        "    colors = ['darkred', 'royalblue', 'teal', 'purple'] #цвета выделяемых кластеров\n",
        "\n",
        "    figure(figsize=(14, 9), dpi=80)\n",
        "    for context, x, y, cluster in zip(some_df[\"значение\"], xs, ys, some_df[cluster_cat]):\n",
        "        plt.scatter(x, y, color = colors[cluster])\n",
        "        plt.annotate(context, xy=(x, y), color = colors[cluster])\n",
        "        plt.title(title)\n",
        "    plt.show()\n",
        "\n",
        "def visual_cl(some_X, some_df, title, color):\n",
        "    xs = some_X[:,0]\n",
        "    ys = some_X[:,1]    \n",
        "\n",
        "    figure(figsize=(11, 6), dpi=80)\n",
        "    for context, x, y in zip(some_df[\"выражение\"], xs, ys):\n",
        "        plt.scatter(x, y, color = color)\n",
        "        plt.annotate(context, xy=(x, y))\n",
        "        plt.title(title)\n",
        "    plt.show()"
      ],
      "metadata": {
        "id": "eFxRcX0Nq3Ie"
      },
      "execution_count": null,
      "outputs": []
    },
    {
      "cell_type": "markdown",
      "source": [
        "## Модель на Geowac (токены и предлоги)\n",
        "\n",
        "Наиболее перспективная модель, здесь же самый расширенный эксперимент:\n",
        "- смотрим на вектора токенов\n",
        "- смотрим на вектора лемм (можно сравнить с другими моделями)\n",
        "- смотрим на то, как влияют падежи"
      ],
      "metadata": {
        "id": "i4jVUNbbpXEm"
      }
    },
    {
      "cell_type": "code",
      "source": [
        "# !wget http://vectors.nlpl.eu/repository/20/214.zip\n",
        "os.mkdir(\"geowac_tokens\")\n",
        "shutil.unpack_archive(\"/content/drive/MyDrive/214.zip\", \"/content/geowac_tokens\")\n",
        "geowac_tok_model = gensim.models.KeyedVectors.load('geowac_tokens/model.model')"
      ],
      "metadata": {
        "id": "rU7FGQBvSret"
      },
      "execution_count": null,
      "outputs": []
    },
    {
      "cell_type": "code",
      "source": [
        "X_gt_lemmas, X_gt_tokens, data_with_vecs_gt = data_for_clustering_tokens(df, geowac_tok_model)"
      ],
      "metadata": {
        "id": "Lgkz4PyHUQDV",
        "colab": {
          "base_uri": "https://localhost:8080/"
        },
        "outputId": "9dc4ad0e-17c6-4b7f-a3da-5ffb313c64f5"
      },
      "execution_count": null,
      "outputs": [
        {
          "output_type": "stream",
          "name": "stderr",
          "text": [
            "<ipython-input-4-a594a1d05305>:8: DeprecationWarning: Call to deprecated `word_vec` (Use get_vector instead).\n",
            "  pvec = model.word_vec(prep)\n",
            "<ipython-input-4-a594a1d05305>:9: DeprecationWarning: Call to deprecated `word_vec` (Use get_vector instead).\n",
            "  nvec = model.word_vec(noun)\n",
            "<ipython-input-4-a594a1d05305>:10: DeprecationWarning: Call to deprecated `word_vec` (Use get_vector instead).\n",
            "  nvec_lem = model.word_vec(morph.normal_forms(noun)[0])\n"
          ]
        }
      ]
    },
    {
      "cell_type": "markdown",
      "source": [
        "У нас есть две матрицы, подходящие для кластеризации. В одной представлены векторы \"предлог + лемма\", в другой — \"предлог + форма существительного\". Начнем с первой матрицы"
      ],
      "metadata": {
        "id": "PpGgGaIjnOhI"
      }
    },
    {
      "cell_type": "code",
      "source": [
        "df_clusters_gt_lemmas, clusters_gt_lemmas = kmeans_clustering(4, X_gt_lemmas, data_with_vecs_gt[[\"выражение\", \"значение\", \"вектор пред+лемма сущ\"]])\n",
        "df_clusters_gt_lemmas[\"clusters_lems\"] = clusters_gt_lemmas"
      ],
      "metadata": {
        "id": "VfDPt0XJn1m6"
      },
      "execution_count": null,
      "outputs": []
    },
    {
      "cell_type": "code",
      "source": [
        "df_clusters_gt, clusters_gt = kmeans_clustering(4, X_gt_tokens, data_with_vecs_gt[[\"выражение\", \"значение\", \"вектор пред+форма сущ\"]]) "
      ],
      "metadata": {
        "id": "vBkcOiROoXZJ"
      },
      "execution_count": null,
      "outputs": []
    },
    {
      "cell_type": "code",
      "execution_count": null,
      "metadata": {
        "colab": {
          "base_uri": "https://localhost:8080/"
        },
        "id": "QEsnO6gJ4mf3",
        "outputId": "09a05204-307a-46d8-c52c-49d45019847a"
      },
      "outputs": [
        {
          "data": {
            "text/plain": [
              "[('и', 0.6202954053878784),\n",
              " ('на', 0.5644969940185547),\n",
              " ('во', 0.5504961609840393),\n",
              " ('а', 0.5404972434043884),\n",
              " ('ответыв', 0.5274618268013),\n",
              " ('назадв', 0.5249723792076111),\n",
              " ('по', 0.5239967107772827),\n",
              " ('представительном', 0.5209869146347046),\n",
              " ('но', 0.5168805122375488),\n",
              " ('с', 0.5132656693458557),\n",
              " ('действительно', 0.510128378868103),\n",
              " ('причем', 0.5058313608169556),\n",
              " ('что', 0.4994252920150757),\n",
              " ('определенно', 0.49794137477874756),\n",
              " ('прин', 0.49748551845550537)]"
            ]
          },
          "execution_count": 10,
          "metadata": {},
          "output_type": "execute_result"
        }
      ],
      "source": [
        "all_sim_words = geowac_tok_model.most_similar(positive=[\"в\"], topn=15) #близкие слова\n",
        "all_sim_words"
      ]
    },
    {
      "cell_type": "markdown",
      "source": [
        "## Модель на Geowac (леммы и предлоги)"
      ],
      "metadata": {
        "id": "S9l8oRJgpIj1"
      }
    },
    {
      "cell_type": "code",
      "source": [
        "# !wget http://vectors.nlpl.eu/repository/20/213.zip\n",
        "os.mkdir(\"geowac_lemmas\")\n",
        "shutil.unpack_archive(\"/content/drive/MyDrive/213.zip\", \"/content/geowac_lemmas\")\n",
        "geowac_lem_model = gensim.models.KeyedVectors.load('geowac_lemmas/model.model')"
      ],
      "metadata": {
        "id": "7DLZRXp0piAr"
      },
      "execution_count": null,
      "outputs": []
    },
    {
      "cell_type": "code",
      "source": [
        "X_gl, data_with_vecs_gl = data_for_clustering_lems(df, geowac_lem_model)"
      ],
      "metadata": {
        "id": "PgTGDC6hSplf",
        "colab": {
          "base_uri": "https://localhost:8080/"
        },
        "outputId": "27d59fac-aab9-4993-8b9e-0083b22abd11"
      },
      "execution_count": null,
      "outputs": [
        {
          "output_type": "stream",
          "name": "stderr",
          "text": [
            "<ipython-input-9-19d709d85cf5>:33: DeprecationWarning: Call to deprecated `word_vec` (Use get_vector instead).\n",
            "  pvec = model.word_vec(prep)\n",
            "<ipython-input-9-19d709d85cf5>:35: DeprecationWarning: Call to deprecated `word_vec` (Use get_vector instead).\n",
            "  nvec_lem = model.word_vec(morph.normal_forms(noun)[0])\n"
          ]
        }
      ]
    },
    {
      "cell_type": "code",
      "source": [
        "df_clusters_gl, clusters_gl = kmeans_clustering(4, X_gl, data_with_vecs_gl[[\"выражение\", \"значение\", \"вектор пред+лемма сущ\"]]) #переименовать колонку?\n",
        "df_clusters_gl[\"clusters\"] = clusters_gl"
      ],
      "metadata": {
        "id": "FblgWIp7TBbb"
      },
      "execution_count": null,
      "outputs": []
    },
    {
      "cell_type": "code",
      "source": [
        "all_sim_words = geowac_lem_model.most_similar(positive=[\"в\"], topn=10) #близкие слова\n",
        "all_sim_words"
      ],
      "metadata": {
        "colab": {
          "base_uri": "https://localhost:8080/"
        },
        "id": "qot9lBOIWeBm",
        "outputId": "b831dedf-1b9a-4c82-a1e4-b3bb4722d2db"
      },
      "execution_count": null,
      "outputs": [
        {
          "output_type": "execute_result",
          "data": {
            "text/plain": [
              "[('.вать', 0.7097395658493042),\n",
              " ('..вать', 0.6671736836433411),\n",
              " ('-вать', 0.6608783602714539),\n",
              " ('...вать', 0.6489165425300598),\n",
              " ('[вать', 0.6348358392715454),\n",
              " (',вать', 0.608148992061615),\n",
              " (':вать', 0.5987821221351624),\n",
              " ('нет.вать', 0.5923352837562561),\n",
              " ('и', 0.5908723473548889),\n",
              " ('с', 0.5821506977081299)]"
            ]
          },
          "metadata": {},
          "execution_count": 11
        }
      ]
    },
    {
      "cell_type": "markdown",
      "source": [
        "## Модель на НКРЯ и википедии (леммы и предлоги)"
      ],
      "metadata": {
        "id": "nNY4On6hpXh_"
      }
    },
    {
      "cell_type": "code",
      "source": [
        "#загрузка модели с диска\n",
        "os.mkdir(\"wiki\")\n",
        "shutil.unpack_archive(\"/content/drive/MyDrive/183.zip\", \"/content/wiki\")\n",
        "wiki_model = gensim.models.KeyedVectors.load_word2vec_format('wiki/model.bin',  binary=True)"
      ],
      "metadata": {
        "id": "j_CXgEWxpjUL"
      },
      "execution_count": null,
      "outputs": []
    },
    {
      "cell_type": "code",
      "source": [
        "X_w, data_with_vecs_w = data_for_clustering_lems(df, wiki_model)"
      ],
      "metadata": {
        "colab": {
          "base_uri": "https://localhost:8080/"
        },
        "id": "T9jZNY2c5jEh",
        "outputId": "7aa345e2-eefa-4488-efa3-36def0a3986d"
      },
      "execution_count": null,
      "outputs": [
        {
          "output_type": "stream",
          "name": "stderr",
          "text": [
            "<ipython-input-21-b105dc88a533>:39: DeprecationWarning: Call to deprecated `word_vec` (Use get_vector instead).\n",
            "  pvec = model.word_vec(f\"{prep}_ADP\")\n",
            "<ipython-input-21-b105dc88a533>:41: DeprecationWarning: Call to deprecated `word_vec` (Use get_vector instead).\n",
            "  nvec_lem = model.word_vec(f\"{morph.normal_forms(noun)[0]}_NOUN\")\n"
          ]
        }
      ]
    },
    {
      "cell_type": "code",
      "source": [
        "df_clusters_w, clusters_w = kmeans_clustering(4, X_w, data_with_vecs_w[[\"выражение\", \"значение\", \"вектор пред+лемма сущ\"]])\n",
        "df_clusters_w[\"clusters\"] = clusters_w"
      ],
      "metadata": {
        "id": "CbiegbM455AS"
      },
      "execution_count": null,
      "outputs": []
    },
    {
      "cell_type": "code",
      "source": [
        "all_sim_words = wiki_model.most_similar(positive=[\"в_ADP\"], topn=10) #близкие слова\n",
        "all_sim_words"
      ],
      "metadata": {
        "colab": {
          "base_uri": "https://localhost:8080/"
        },
        "id": "i0Z_VHOSMHBY",
        "outputId": "9f523586-a151-4cf9-92f3-c3456f26b3da"
      },
      "execution_count": null,
      "outputs": [
        {
          "output_type": "execute_result",
          "data": {
            "text/plain": [
              "[(',_PUNCT', 0.5543971061706543),\n",
              " ('и_CCONJ', 0.5501202940940857),\n",
              " ('из_ADP', 0.516704797744751),\n",
              " ('..вать_VERB', 0.4881976842880249),\n",
              " ('._PUNCT', 0.48716896772384644),\n",
              " ('с_ADP', 0.4851657450199127),\n",
              " ('на_ADP', 0.48360520601272583),\n",
              " ('по_ADP', 0.4797956943511963),\n",
              " ('где_ADV', 0.4772920310497284),\n",
              " ('он_PRON', 0.47462034225463867)]"
            ]
          },
          "metadata": {},
          "execution_count": 9
        }
      ]
    },
    {
      "cell_type": "markdown",
      "source": [
        "## Модель на Тайге (леммы и предлоги)"
      ],
      "metadata": {
        "id": "odjf0Jt0pX8k"
      }
    },
    {
      "cell_type": "code",
      "source": [
        "#загрузка модели\n",
        "\n",
        "!wget http://vectors.nlpl.eu/repository/20/186.zip\n",
        "os.mkdir(\"taiga\")\n",
        "shutil.unpack_archive(\"/content/186.zip\", \"/content/taiga\")\n",
        "taiga_model = gensim.models.KeyedVectors.load_word2vec_format('taiga/model.bin',  binary=True)"
      ],
      "metadata": {
        "id": "DDnxvFelpkCk",
        "colab": {
          "base_uri": "https://localhost:8080/"
        },
        "outputId": "c7cb1ece-ad42-418d-c01c-7cd844b860ab"
      },
      "execution_count": null,
      "outputs": [
        {
          "output_type": "stream",
          "name": "stdout",
          "text": [
            "--2023-05-27 08:41:10--  http://vectors.nlpl.eu/repository/20/186.zip\n",
            "Resolving vectors.nlpl.eu (vectors.nlpl.eu)... 129.240.189.181\n",
            "Connecting to vectors.nlpl.eu (vectors.nlpl.eu)|129.240.189.181|:80... connected.\n",
            "HTTP request sent, awaiting response... 200 OK\n",
            "Length: 640473374 (611M) [application/zip]\n",
            "Saving to: ‘186.zip’\n",
            "\n",
            "186.zip             100%[===================>] 610.80M   104MB/s    in 9.0s    \n",
            "\n",
            "2023-05-27 08:41:19 (67.9 MB/s) - ‘186.zip’ saved [640473374/640473374]\n",
            "\n"
          ]
        }
      ]
    },
    {
      "cell_type": "code",
      "execution_count": null,
      "metadata": {
        "id": "3JvRR7oBnblg",
        "colab": {
          "base_uri": "https://localhost:8080/"
        },
        "outputId": "52381b3f-c248-466b-9543-832c0f990bc0"
      },
      "outputs": [
        {
          "output_type": "stream",
          "name": "stderr",
          "text": [
            "<ipython-input-21-b105dc88a533>:39: DeprecationWarning: Call to deprecated `word_vec` (Use get_vector instead).\n",
            "  pvec = model.word_vec(f\"{prep}_ADP\")\n",
            "<ipython-input-21-b105dc88a533>:41: DeprecationWarning: Call to deprecated `word_vec` (Use get_vector instead).\n",
            "  nvec_lem = model.word_vec(f\"{morph.normal_forms(noun)[0]}_NOUN\")\n"
          ]
        }
      ],
      "source": [
        "X_t, data_with_vecs_t = data_for_clustering_lems(df, taiga_model)"
      ]
    },
    {
      "cell_type": "code",
      "source": [
        "df_clusters_t, clusters_t = kmeans_clustering(4, X_w, data_with_vecs_w[[\"выражение\", \"значение\", \"вектор пред+лемма сущ\"]]) \n",
        "df_clusters_t[\"clusters\"] = clusters_t"
      ],
      "metadata": {
        "id": "cFTwwGEu6Vr_"
      },
      "execution_count": null,
      "outputs": []
    },
    {
      "cell_type": "code",
      "source": [
        "all_sim_words = taiga_model.most_similar(positive=[\"в_ADP\"], topn=10) #близкие слова\n",
        "all_sim_words"
      ],
      "metadata": {
        "colab": {
          "base_uri": "https://localhost:8080/"
        },
        "id": "8DBtw1tzAc9-",
        "outputId": "0c7ff272-4e83-498b-f77e-31e96a5df155"
      },
      "execution_count": null,
      "outputs": [
        {
          "output_type": "execute_result",
          "data": {
            "text/plain": [
              "[('..в_VERB', 0.6442115902900696),\n",
              " ('.в_VERB', 0.6055962443351746),\n",
              " ('-в_VERB', 0.5981110334396362),\n",
              " (',в_VERB', 0.5870802998542786),\n",
              " ('.вать_VERB', 0.5721867680549622),\n",
              " ('..вать_VERB', 0.5599163770675659),\n",
              " ('.в_NOUN', 0.5222575068473816),\n",
              " ('...вать_VERB', 0.5144253969192505),\n",
              " ('...в_VERB', 0.5126088261604309),\n",
              " (',вать_VERB', 0.4979478120803833)]"
            ]
          },
          "metadata": {},
          "execution_count": 26
        }
      ]
    },
    {
      "cell_type": "markdown",
      "source": [
        "## Таблица с кластерами"
      ],
      "metadata": {
        "id": "Wmg7xSog6aNE"
      }
    },
    {
      "cell_type": "code",
      "source": [
        "df[\"Geowac_token_model — lemmas\"] = clusters_gt_lemmas\n",
        "df[\"Geowac_token_model — tokens\"] = clusters_gt\n",
        "df[\"Geowac_lemma_model\"] = clusters_gl\n",
        "df[\"WikiNCorpora_model\"] = clusters_w\n",
        "df[\"Taiga_model\"] = clusters_t\n",
        "df"
      ],
      "metadata": {
        "colab": {
          "base_uri": "https://localhost:8080/",
          "height": 814
        },
        "id": "t4krosKC6eKs",
        "outputId": "92551fea-5a62-4dff-b2cd-305bda604bbb"
      },
      "execution_count": null,
      "outputs": [
        {
          "output_type": "execute_result",
          "data": {
            "text/plain": [
              "                                            контексты     значение    в + сущ  \\\n",
              "0   В универе очень интересно течет жизнь,  постоя...        место  в универе   \n",
              "1        Растить в душе побег уныния -- преступление.        место     в душе   \n",
              "2         В Госдуме тоже пытаются бороться с курением        место  в госдуме   \n",
              "3              Я старалась подольше оставаться в саду        место     в саду   \n",
              "4   Необходимо добавить,  что в Китае банковский п...        место    в китае   \n",
              "..                                                ...          ...        ...   \n",
              "95  Во время сильной грозы молния ударила в склад ...  Направление    в склад   \n",
              "96  ...многие хотят полететь в космос, но потом ос...  Направление   в космос   \n",
              "97  А на общем снимке его взгляд направлен не в ка...  Направление   в камеру   \n",
              "98  Молодая девица смотрела в окно, она ждала весн...  Направление     в окно   \n",
              "99  Он допил свое виски и сидел, глядя в стол. [А....  Направление     в стол   \n",
              "\n",
              "    Geowac_token_model — lemmas  Geowac_token_model — tokens  \\\n",
              "0                             1                            0   \n",
              "1                             2                            0   \n",
              "2                             3                            0   \n",
              "3                             3                            0   \n",
              "4                             3                            0   \n",
              "..                          ...                          ...   \n",
              "95                            3                            3   \n",
              "96                            3                            3   \n",
              "97                            2                            3   \n",
              "98                            2                            3   \n",
              "99                            3                            3   \n",
              "\n",
              "    Geowac_lemma_model  WikiNCorpora_model  Taiga_model  \n",
              "0                    1                   2            2  \n",
              "1                    2                   2            3  \n",
              "2                    3                   2            3  \n",
              "3                    2                   3            3  \n",
              "4                    1                   3            3  \n",
              "..                 ...                 ...          ...  \n",
              "95                   2                   3            3  \n",
              "96                   1                   3            3  \n",
              "97                   2                   3            3  \n",
              "98                   2                   3            3  \n",
              "99                   2                   3            3  \n",
              "\n",
              "[100 rows x 8 columns]"
            ],
            "text/html": [
              "\n",
              "  <div id=\"df-7f2f3258-7269-4935-9e71-7bdab65e3db2\">\n",
              "    <div class=\"colab-df-container\">\n",
              "      <div>\n",
              "<style scoped>\n",
              "    .dataframe tbody tr th:only-of-type {\n",
              "        vertical-align: middle;\n",
              "    }\n",
              "\n",
              "    .dataframe tbody tr th {\n",
              "        vertical-align: top;\n",
              "    }\n",
              "\n",
              "    .dataframe thead th {\n",
              "        text-align: right;\n",
              "    }\n",
              "</style>\n",
              "<table border=\"1\" class=\"dataframe\">\n",
              "  <thead>\n",
              "    <tr style=\"text-align: right;\">\n",
              "      <th></th>\n",
              "      <th>контексты</th>\n",
              "      <th>значение</th>\n",
              "      <th>в + сущ</th>\n",
              "      <th>Geowac_token_model — lemmas</th>\n",
              "      <th>Geowac_token_model — tokens</th>\n",
              "      <th>Geowac_lemma_model</th>\n",
              "      <th>WikiNCorpora_model</th>\n",
              "      <th>Taiga_model</th>\n",
              "    </tr>\n",
              "  </thead>\n",
              "  <tbody>\n",
              "    <tr>\n",
              "      <th>0</th>\n",
              "      <td>В универе очень интересно течет жизнь,  постоя...</td>\n",
              "      <td>место</td>\n",
              "      <td>в универе</td>\n",
              "      <td>1</td>\n",
              "      <td>0</td>\n",
              "      <td>1</td>\n",
              "      <td>2</td>\n",
              "      <td>2</td>\n",
              "    </tr>\n",
              "    <tr>\n",
              "      <th>1</th>\n",
              "      <td>Растить в душе побег уныния -- преступление.</td>\n",
              "      <td>место</td>\n",
              "      <td>в душе</td>\n",
              "      <td>2</td>\n",
              "      <td>0</td>\n",
              "      <td>2</td>\n",
              "      <td>2</td>\n",
              "      <td>3</td>\n",
              "    </tr>\n",
              "    <tr>\n",
              "      <th>2</th>\n",
              "      <td>В Госдуме тоже пытаются бороться с курением</td>\n",
              "      <td>место</td>\n",
              "      <td>в госдуме</td>\n",
              "      <td>3</td>\n",
              "      <td>0</td>\n",
              "      <td>3</td>\n",
              "      <td>2</td>\n",
              "      <td>3</td>\n",
              "    </tr>\n",
              "    <tr>\n",
              "      <th>3</th>\n",
              "      <td>Я старалась подольше оставаться в саду</td>\n",
              "      <td>место</td>\n",
              "      <td>в саду</td>\n",
              "      <td>3</td>\n",
              "      <td>0</td>\n",
              "      <td>2</td>\n",
              "      <td>3</td>\n",
              "      <td>3</td>\n",
              "    </tr>\n",
              "    <tr>\n",
              "      <th>4</th>\n",
              "      <td>Необходимо добавить,  что в Китае банковский п...</td>\n",
              "      <td>место</td>\n",
              "      <td>в китае</td>\n",
              "      <td>3</td>\n",
              "      <td>0</td>\n",
              "      <td>1</td>\n",
              "      <td>3</td>\n",
              "      <td>3</td>\n",
              "    </tr>\n",
              "    <tr>\n",
              "      <th>...</th>\n",
              "      <td>...</td>\n",
              "      <td>...</td>\n",
              "      <td>...</td>\n",
              "      <td>...</td>\n",
              "      <td>...</td>\n",
              "      <td>...</td>\n",
              "      <td>...</td>\n",
              "      <td>...</td>\n",
              "    </tr>\n",
              "    <tr>\n",
              "      <th>95</th>\n",
              "      <td>Во время сильной грозы молния ударила в склад ...</td>\n",
              "      <td>Направление</td>\n",
              "      <td>в склад</td>\n",
              "      <td>3</td>\n",
              "      <td>3</td>\n",
              "      <td>2</td>\n",
              "      <td>3</td>\n",
              "      <td>3</td>\n",
              "    </tr>\n",
              "    <tr>\n",
              "      <th>96</th>\n",
              "      <td>...многие хотят полететь в космос, но потом ос...</td>\n",
              "      <td>Направление</td>\n",
              "      <td>в космос</td>\n",
              "      <td>3</td>\n",
              "      <td>3</td>\n",
              "      <td>1</td>\n",
              "      <td>3</td>\n",
              "      <td>3</td>\n",
              "    </tr>\n",
              "    <tr>\n",
              "      <th>97</th>\n",
              "      <td>А на общем снимке его взгляд направлен не в ка...</td>\n",
              "      <td>Направление</td>\n",
              "      <td>в камеру</td>\n",
              "      <td>2</td>\n",
              "      <td>3</td>\n",
              "      <td>2</td>\n",
              "      <td>3</td>\n",
              "      <td>3</td>\n",
              "    </tr>\n",
              "    <tr>\n",
              "      <th>98</th>\n",
              "      <td>Молодая девица смотрела в окно, она ждала весн...</td>\n",
              "      <td>Направление</td>\n",
              "      <td>в окно</td>\n",
              "      <td>2</td>\n",
              "      <td>3</td>\n",
              "      <td>2</td>\n",
              "      <td>3</td>\n",
              "      <td>3</td>\n",
              "    </tr>\n",
              "    <tr>\n",
              "      <th>99</th>\n",
              "      <td>Он допил свое виски и сидел, глядя в стол. [А....</td>\n",
              "      <td>Направление</td>\n",
              "      <td>в стол</td>\n",
              "      <td>3</td>\n",
              "      <td>3</td>\n",
              "      <td>2</td>\n",
              "      <td>3</td>\n",
              "      <td>3</td>\n",
              "    </tr>\n",
              "  </tbody>\n",
              "</table>\n",
              "<p>100 rows × 8 columns</p>\n",
              "</div>\n",
              "      <button class=\"colab-df-convert\" onclick=\"convertToInteractive('df-7f2f3258-7269-4935-9e71-7bdab65e3db2')\"\n",
              "              title=\"Convert this dataframe to an interactive table.\"\n",
              "              style=\"display:none;\">\n",
              "        \n",
              "  <svg xmlns=\"http://www.w3.org/2000/svg\" height=\"24px\"viewBox=\"0 0 24 24\"\n",
              "       width=\"24px\">\n",
              "    <path d=\"M0 0h24v24H0V0z\" fill=\"none\"/>\n",
              "    <path d=\"M18.56 5.44l.94 2.06.94-2.06 2.06-.94-2.06-.94-.94-2.06-.94 2.06-2.06.94zm-11 1L8.5 8.5l.94-2.06 2.06-.94-2.06-.94L8.5 2.5l-.94 2.06-2.06.94zm10 10l.94 2.06.94-2.06 2.06-.94-2.06-.94-.94-2.06-.94 2.06-2.06.94z\"/><path d=\"M17.41 7.96l-1.37-1.37c-.4-.4-.92-.59-1.43-.59-.52 0-1.04.2-1.43.59L10.3 9.45l-7.72 7.72c-.78.78-.78 2.05 0 2.83L4 21.41c.39.39.9.59 1.41.59.51 0 1.02-.2 1.41-.59l7.78-7.78 2.81-2.81c.8-.78.8-2.07 0-2.86zM5.41 20L4 18.59l7.72-7.72 1.47 1.35L5.41 20z\"/>\n",
              "  </svg>\n",
              "      </button>\n",
              "      \n",
              "  <style>\n",
              "    .colab-df-container {\n",
              "      display:flex;\n",
              "      flex-wrap:wrap;\n",
              "      gap: 12px;\n",
              "    }\n",
              "\n",
              "    .colab-df-convert {\n",
              "      background-color: #E8F0FE;\n",
              "      border: none;\n",
              "      border-radius: 50%;\n",
              "      cursor: pointer;\n",
              "      display: none;\n",
              "      fill: #1967D2;\n",
              "      height: 32px;\n",
              "      padding: 0 0 0 0;\n",
              "      width: 32px;\n",
              "    }\n",
              "\n",
              "    .colab-df-convert:hover {\n",
              "      background-color: #E2EBFA;\n",
              "      box-shadow: 0px 1px 2px rgba(60, 64, 67, 0.3), 0px 1px 3px 1px rgba(60, 64, 67, 0.15);\n",
              "      fill: #174EA6;\n",
              "    }\n",
              "\n",
              "    [theme=dark] .colab-df-convert {\n",
              "      background-color: #3B4455;\n",
              "      fill: #D2E3FC;\n",
              "    }\n",
              "\n",
              "    [theme=dark] .colab-df-convert:hover {\n",
              "      background-color: #434B5C;\n",
              "      box-shadow: 0px 1px 3px 1px rgba(0, 0, 0, 0.15);\n",
              "      filter: drop-shadow(0px 1px 2px rgba(0, 0, 0, 0.3));\n",
              "      fill: #FFFFFF;\n",
              "    }\n",
              "  </style>\n",
              "\n",
              "      <script>\n",
              "        const buttonEl =\n",
              "          document.querySelector('#df-7f2f3258-7269-4935-9e71-7bdab65e3db2 button.colab-df-convert');\n",
              "        buttonEl.style.display =\n",
              "          google.colab.kernel.accessAllowed ? 'block' : 'none';\n",
              "\n",
              "        async function convertToInteractive(key) {\n",
              "          const element = document.querySelector('#df-7f2f3258-7269-4935-9e71-7bdab65e3db2');\n",
              "          const dataTable =\n",
              "            await google.colab.kernel.invokeFunction('convertToInteractive',\n",
              "                                                     [key], {});\n",
              "          if (!dataTable) return;\n",
              "\n",
              "          const docLinkHtml = 'Like what you see? Visit the ' +\n",
              "            '<a target=\"_blank\" href=https://colab.research.google.com/notebooks/data_table.ipynb>data table notebook</a>'\n",
              "            + ' to learn more about interactive tables.';\n",
              "          element.innerHTML = '';\n",
              "          dataTable['output_type'] = 'display_data';\n",
              "          await google.colab.output.renderOutput(dataTable, element);\n",
              "          const docLink = document.createElement('div');\n",
              "          docLink.innerHTML = docLinkHtml;\n",
              "          element.appendChild(docLink);\n",
              "        }\n",
              "      </script>\n",
              "    </div>\n",
              "  </div>\n",
              "  "
            ]
          },
          "metadata": {},
          "execution_count": 37
        }
      ]
    },
    {
      "cell_type": "code",
      "source": [
        "df.to_excel(\"w2v_clusterization_results.xlsx\")"
      ],
      "metadata": {
        "id": "WCws-CFH7hUW"
      },
      "execution_count": null,
      "outputs": []
    }
  ]
}